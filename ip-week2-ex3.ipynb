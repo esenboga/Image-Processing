{
 "cells": [
  {
   "cell_type": "code",
   "execution_count": 1,
   "id": "033d6616",
   "metadata": {
    "_cell_guid": "b1076dfc-b9ad-4769-8c92-a6c4dae69d19",
    "_uuid": "8f2839f25d086af736a60e9eeb907d3b93b6e0e5",
    "execution": {
     "iopub.execute_input": "2023-08-02T11:24:42.553308Z",
     "iopub.status.busy": "2023-08-02T11:24:42.552650Z",
     "iopub.status.idle": "2023-08-02T11:24:42.566081Z",
     "shell.execute_reply": "2023-08-02T11:24:42.564914Z"
    },
    "papermill": {
     "duration": 0.019439,
     "end_time": "2023-08-02T11:24:42.568293",
     "exception": false,
     "start_time": "2023-08-02T11:24:42.548854",
     "status": "completed"
    },
    "tags": []
   },
   "outputs": [
    {
     "name": "stdout",
     "output_type": "stream",
     "text": [
      "A = [[1, 4, 5], [-5, 8, 9], [6, 8, 10], [0, 2, 38]]\n",
      "A[1] = [-5, 8, 9]\n",
      "A[1][2] = 9\n",
      "A[0][-1] = 5\n"
     ]
    }
   ],
   "source": [
    "A = [[1, 4, 5], \n",
    "     [-5, 8, 9],\n",
    "     [6, 8, 10],\n",
    "     [0, 2, 38]]\n",
    "\n",
    "print(\"A =\", A)\n",
    "print(\"A[1] =\", A[1])\n",
    "print(\"A[1][2] =\", A[1][2])\n",
    "print(\"A[0][-1] =\", A[0][-1])"
   ]
  }
 ],
 "metadata": {
  "kernelspec": {
   "display_name": "Python 3",
   "language": "python",
   "name": "python3"
  },
  "language_info": {
   "codemirror_mode": {
    "name": "ipython",
    "version": 3
   },
   "file_extension": ".py",
   "mimetype": "text/x-python",
   "name": "python",
   "nbconvert_exporter": "python",
   "pygments_lexer": "ipython3",
   "version": "3.10.12"
  },
  "papermill": {
   "default_parameters": {},
   "duration": 11.782354,
   "end_time": "2023-08-02T11:24:43.391037",
   "environment_variables": {},
   "exception": null,
   "input_path": "__notebook__.ipynb",
   "output_path": "__notebook__.ipynb",
   "parameters": {},
   "start_time": "2023-08-02T11:24:31.608683",
   "version": "2.4.0"
  }
 },
 "nbformat": 4,
 "nbformat_minor": 5
}
